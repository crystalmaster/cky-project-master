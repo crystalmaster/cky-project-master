{
  "nbformat": 4,
  "nbformat_minor": 0,
  "metadata": {
    "kernelspec": {
      "display_name": "Python 3",
      "language": "python",
      "name": "python3"
    },
    "language_info": {
      "codemirror_mode": {
        "name": "ipython",
        "version": 3
      },
      "file_extension": ".py",
      "mimetype": "text/x-python",
      "name": "python",
      "nbconvert_exporter": "python",
      "pygments_lexer": "ipython3",
      "version": "3.7.3"
    },
    "colab": {
      "name": "Pha-Team 6 - World Cup.ipynb",
      "version": "0.3.2",
      "provenance": [],
      "include_colab_link": true
    }
  },
  "cells": [
    {
      "cell_type": "markdown",
      "metadata": {
        "id": "view-in-github",
        "colab_type": "text"
      },
      "source": [
        "<a href=\"https://colab.research.google.com/github/crystalmaster/cky-project-master/blob/master/Pha_Team_6_World_Cup.ipynb\" target=\"_parent\"><img src=\"https://colab.research.google.com/assets/colab-badge.svg\" alt=\"Open In Colab\"/></a>"
      ]
    },
    {
      "cell_type": "markdown",
      "metadata": {
        "id": "sB-d7nkfqhZ7",
        "colab_type": "text"
      },
      "source": [
        "# Team 6 - World Cup\n",
        "\n",
        "![](https://img.fifa.com/image/upload/t_l4/v1543921822/ex1ksdevyxwsgu7rzdv6.jpg)\n",
        "\n",
        "_For more information about the dataset, read [here](https://www.kaggle.com/abecklas/fifa-world-cup)._\n",
        "\n",
        "## Your tasks\n",
        "- Name your team!\n",
        "- Read the source and do some quick research to understand more about the dataset and its topic\n",
        "- Clean the data\n",
        "- Perform Exploratory Data Analysis on the dataset\n",
        "- Analyze the data more deeply and extract insights\n",
        "- Visualize your analysis on Google Data Studio\n",
        "- Present your works in front of the class and guests next Monday\n",
        "\n",
        "## Submission Guide\n",
        "- Create a Github repository for your project\n",
        "- Upload the dataset (.csv file) and the Jupyter Notebook to your Github repository. In the Jupyter Notebook, **include the link to your Google Data Studio report**.\n",
        "- Submit your works through this [Google Form](https://forms.gle/oxtXpGfS8JapVj3V8).\n",
        "\n",
        "## Tips for Data Cleaning, Manipulation & Visualization\n",
        "- Here are some of our tips for Data Cleaning, Manipulation & Visualization. [Click here](https://hackmd.io/cBNV7E6TT2WMliQC-GTw1A)\n",
        "\n",
        "_____________________________\n",
        "\n",
        "## Some Hints for This Dataset:\n",
        "- Is there a way to integrate the data from all 3 datasets?\n",
        "- It seems like the `winners` dataset doesn't have data of World Cup 2018. Can you Google the relevant information and add it to the dataset using `pandas`?\n",
        "- The format of some number columns in `matches` dataset doesn't look right.\n",
        "- Can you seperate the Date and the Time of `Datetime` column in `matches` dataset?\n",
        "- And more..."
      ]
    },
    {
      "cell_type": "code",
      "metadata": {
        "id": "JEXfV9AHqhZ8",
        "colab_type": "code",
        "colab": {}
      },
      "source": [
        "#Load dataset from google drive\n",
        "!pip install -U -q PyDrive"
      ],
      "execution_count": 0,
      "outputs": []
    },
    {
      "cell_type": "code",
      "metadata": {
        "id": "zs0pXLRatWfY",
        "colab_type": "code",
        "colab": {}
      },
      "source": [
        "from pydrive.auth import GoogleAuth\n",
        "from pydrive.drive import GoogleDrive\n",
        "from google.colab import auth\n",
        "from oauth2client.client import GoogleCredentials\n",
        "# Authenticate and create the PyDrive client.\n",
        "auth.authenticate_user()\n",
        "gauth = GoogleAuth()\n",
        "gauth.credentials = GoogleCredentials.get_application_default()\n",
        "drive = GoogleDrive(gauth)"
      ],
      "execution_count": 0,
      "outputs": []
    },
    {
      "cell_type": "code",
      "metadata": {
        "id": "S_5VhENEuzox",
        "colab_type": "code",
        "colab": {}
      },
      "source": [
        "import pandas as pd"
      ],
      "execution_count": 0,
      "outputs": []
    },
    {
      "cell_type": "code",
      "metadata": {
        "id": "abfxjZ56uOqf",
        "colab_type": "code",
        "colab": {}
      },
      "source": [
        "id1 = ''.join('https://drive.google.com/open?id=1-ZheYx3sfsMEZ_b0IfPF1LU2vg4qxb0I'.split(\"=\")[1:])#matches.csv\n",
        "id2 = ''.join('https://drive.google.com/open?id=1XLPQQW7Jyu7OF0NECmxfWroIuaFbJbMz'.split(\"=\")[1:])#players.csv\n",
        "id3 = ''.join('https://drive.google.com/open?id=1aMtsi5nbUiSSoBBh0nvATE5VH3JATYPX'.split(\"=\")[1:])#winners.csv\n",
        "link = 'https://drive.google.com/open?id=1-ZheYx3sfsMEZ_b0IfPF1LU2vg4qxb0I'\n",
        "\n",
        "id = id1\n",
        "matches = drive.CreateFile({'id':id}) \n",
        "matches.GetContentFile('matches.csv')\n",
        "id = id2\n",
        "players = drive.CreateFile({'id':id}) \n",
        "players.GetContentFile('players.csv')\n",
        "id = id1\n",
        "winners = drive.CreateFile({'id':id}) \n",
        "winners.GetContentFile('winners.csv')  \n",
        "\n",
        "df1 = pd.read_csv('matches.csv')\n",
        "df2 = pd.read_csv('players.csv')\n",
        "df3 = pd.read_csv('winners.csv')"
      ],
      "execution_count": 0,
      "outputs": []
    },
    {
      "cell_type": "code",
      "metadata": {
        "id": "xzv0cw76u7L9",
        "colab_type": "code",
        "colab": {
          "base_uri": "https://localhost:8080/",
          "height": 434
        },
        "outputId": "9131a26b-90da-4998-ce2c-da7dbacf80e6"
      },
      "source": [
        "#check\n",
        "df3.head()"
      ],
      "execution_count": 27,
      "outputs": [
        {
          "output_type": "execute_result",
          "data": {
            "text/html": [
              "<div>\n",
              "<style scoped>\n",
              "    .dataframe tbody tr th:only-of-type {\n",
              "        vertical-align: middle;\n",
              "    }\n",
              "\n",
              "    .dataframe tbody tr th {\n",
              "        vertical-align: top;\n",
              "    }\n",
              "\n",
              "    .dataframe thead th {\n",
              "        text-align: right;\n",
              "    }\n",
              "</style>\n",
              "<table border=\"1\" class=\"dataframe\">\n",
              "  <thead>\n",
              "    <tr style=\"text-align: right;\">\n",
              "      <th></th>\n",
              "      <th>Year</th>\n",
              "      <th>Datetime</th>\n",
              "      <th>Stage</th>\n",
              "      <th>Stadium</th>\n",
              "      <th>City</th>\n",
              "      <th>Home Team Name</th>\n",
              "      <th>Home Team Goals</th>\n",
              "      <th>Away Team Goals</th>\n",
              "      <th>Away Team Name</th>\n",
              "      <th>Win conditions</th>\n",
              "      <th>Attendance</th>\n",
              "      <th>Half-time Home Goals</th>\n",
              "      <th>Half-time Away Goals</th>\n",
              "      <th>Referee</th>\n",
              "      <th>Assistant 1</th>\n",
              "      <th>Assistant 2</th>\n",
              "      <th>RoundID</th>\n",
              "      <th>MatchID</th>\n",
              "      <th>Home Team Initials</th>\n",
              "      <th>Away Team Initials</th>\n",
              "    </tr>\n",
              "  </thead>\n",
              "  <tbody>\n",
              "    <tr>\n",
              "      <th>0</th>\n",
              "      <td>1930.0</td>\n",
              "      <td>13 Jul 1930 - 15:00</td>\n",
              "      <td>Group 1</td>\n",
              "      <td>Pocitos</td>\n",
              "      <td>Montevideo</td>\n",
              "      <td>France</td>\n",
              "      <td>4.0</td>\n",
              "      <td>1.0</td>\n",
              "      <td>Mexico</td>\n",
              "      <td></td>\n",
              "      <td>4444.0</td>\n",
              "      <td>3.0</td>\n",
              "      <td>0.0</td>\n",
              "      <td>LOMBARDI Domingo (URU)</td>\n",
              "      <td>CRISTOPHE Henry (BEL)</td>\n",
              "      <td>REGO Gilberto (BRA)</td>\n",
              "      <td>201.0</td>\n",
              "      <td>1096.0</td>\n",
              "      <td>FRA</td>\n",
              "      <td>MEX</td>\n",
              "    </tr>\n",
              "    <tr>\n",
              "      <th>1</th>\n",
              "      <td>1930.0</td>\n",
              "      <td>13 Jul 1930 - 15:00</td>\n",
              "      <td>Group 4</td>\n",
              "      <td>Parque Central</td>\n",
              "      <td>Montevideo</td>\n",
              "      <td>USA</td>\n",
              "      <td>3.0</td>\n",
              "      <td>0.0</td>\n",
              "      <td>Belgium</td>\n",
              "      <td></td>\n",
              "      <td>18346.0</td>\n",
              "      <td>2.0</td>\n",
              "      <td>0.0</td>\n",
              "      <td>MACIAS Jose (ARG)</td>\n",
              "      <td>MATEUCCI Francisco (URU)</td>\n",
              "      <td>WARNKEN Alberto (CHI)</td>\n",
              "      <td>201.0</td>\n",
              "      <td>1090.0</td>\n",
              "      <td>USA</td>\n",
              "      <td>BEL</td>\n",
              "    </tr>\n",
              "    <tr>\n",
              "      <th>2</th>\n",
              "      <td>1930.0</td>\n",
              "      <td>14 Jul 1930 - 12:45</td>\n",
              "      <td>Group 2</td>\n",
              "      <td>Parque Central</td>\n",
              "      <td>Montevideo</td>\n",
              "      <td>Yugoslavia</td>\n",
              "      <td>2.0</td>\n",
              "      <td>1.0</td>\n",
              "      <td>Brazil</td>\n",
              "      <td></td>\n",
              "      <td>24059.0</td>\n",
              "      <td>2.0</td>\n",
              "      <td>0.0</td>\n",
              "      <td>TEJADA Anibal (URU)</td>\n",
              "      <td>VALLARINO Ricardo (URU)</td>\n",
              "      <td>BALWAY Thomas (FRA)</td>\n",
              "      <td>201.0</td>\n",
              "      <td>1093.0</td>\n",
              "      <td>YUG</td>\n",
              "      <td>BRA</td>\n",
              "    </tr>\n",
              "    <tr>\n",
              "      <th>3</th>\n",
              "      <td>1930.0</td>\n",
              "      <td>14 Jul 1930 - 14:50</td>\n",
              "      <td>Group 3</td>\n",
              "      <td>Pocitos</td>\n",
              "      <td>Montevideo</td>\n",
              "      <td>Romania</td>\n",
              "      <td>3.0</td>\n",
              "      <td>1.0</td>\n",
              "      <td>Peru</td>\n",
              "      <td></td>\n",
              "      <td>2549.0</td>\n",
              "      <td>1.0</td>\n",
              "      <td>0.0</td>\n",
              "      <td>WARNKEN Alberto (CHI)</td>\n",
              "      <td>LANGENUS Jean (BEL)</td>\n",
              "      <td>MATEUCCI Francisco (URU)</td>\n",
              "      <td>201.0</td>\n",
              "      <td>1098.0</td>\n",
              "      <td>ROU</td>\n",
              "      <td>PER</td>\n",
              "    </tr>\n",
              "    <tr>\n",
              "      <th>4</th>\n",
              "      <td>1930.0</td>\n",
              "      <td>15 Jul 1930 - 16:00</td>\n",
              "      <td>Group 1</td>\n",
              "      <td>Parque Central</td>\n",
              "      <td>Montevideo</td>\n",
              "      <td>Argentina</td>\n",
              "      <td>1.0</td>\n",
              "      <td>0.0</td>\n",
              "      <td>France</td>\n",
              "      <td></td>\n",
              "      <td>23409.0</td>\n",
              "      <td>0.0</td>\n",
              "      <td>0.0</td>\n",
              "      <td>REGO Gilberto (BRA)</td>\n",
              "      <td>SAUCEDO Ulises (BOL)</td>\n",
              "      <td>RADULESCU Constantin (ROU)</td>\n",
              "      <td>201.0</td>\n",
              "      <td>1085.0</td>\n",
              "      <td>ARG</td>\n",
              "      <td>FRA</td>\n",
              "    </tr>\n",
              "  </tbody>\n",
              "</table>\n",
              "</div>"
            ],
            "text/plain": [
              "     Year              Datetime  ... Home Team Initials Away Team Initials\n",
              "0  1930.0  13 Jul 1930 - 15:00   ...                FRA                MEX\n",
              "1  1930.0  13 Jul 1930 - 15:00   ...                USA                BEL\n",
              "2  1930.0  14 Jul 1930 - 12:45   ...                YUG                BRA\n",
              "3  1930.0  14 Jul 1930 - 14:50   ...                ROU                PER\n",
              "4  1930.0  15 Jul 1930 - 16:00   ...                ARG                FRA\n",
              "\n",
              "[5 rows x 20 columns]"
            ]
          },
          "metadata": {
            "tags": []
          },
          "execution_count": 27
        }
      ]
    },
    {
      "cell_type": "code",
      "metadata": {
        "id": "9NM52oyE0POF",
        "colab_type": "code",
        "colab": {
          "base_uri": "https://localhost:8080/",
          "height": 437
        },
        "outputId": "cb52630d-fa39-4d83-874d-1fc540b22f03"
      },
      "source": [
        "df1.info()"
      ],
      "execution_count": 32,
      "outputs": [
        {
          "output_type": "stream",
          "text": [
            "<class 'pandas.core.frame.DataFrame'>\n",
            "RangeIndex: 4572 entries, 0 to 4571\n",
            "Data columns (total 20 columns):\n",
            "Year                    852 non-null float64\n",
            "Datetime                852 non-null object\n",
            "Stage                   852 non-null object\n",
            "Stadium                 852 non-null object\n",
            "City                    852 non-null object\n",
            "Home Team Name          852 non-null object\n",
            "Home Team Goals         852 non-null float64\n",
            "Away Team Goals         852 non-null float64\n",
            "Away Team Name          852 non-null object\n",
            "Win conditions          852 non-null object\n",
            "Attendance              850 non-null float64\n",
            "Half-time Home Goals    852 non-null float64\n",
            "Half-time Away Goals    852 non-null float64\n",
            "Referee                 852 non-null object\n",
            "Assistant 1             852 non-null object\n",
            "Assistant 2             852 non-null object\n",
            "RoundID                 852 non-null float64\n",
            "MatchID                 852 non-null float64\n",
            "Home Team Initials      852 non-null object\n",
            "Away Team Initials      852 non-null object\n",
            "dtypes: float64(8), object(12)\n",
            "memory usage: 714.5+ KB\n"
          ],
          "name": "stdout"
        }
      ]
    },
    {
      "cell_type": "code",
      "metadata": {
        "id": "udFQLMH00Tol",
        "colab_type": "code",
        "colab": {
          "base_uri": "https://localhost:8080/",
          "height": 252
        },
        "outputId": "436f01a1-b470-4fde-ac3e-fd8a821cecb3"
      },
      "source": [
        "df2.info()"
      ],
      "execution_count": 29,
      "outputs": [
        {
          "output_type": "stream",
          "text": [
            "<class 'pandas.core.frame.DataFrame'>\n",
            "RangeIndex: 37784 entries, 0 to 37783\n",
            "Data columns (total 9 columns):\n",
            "RoundID          37784 non-null int64\n",
            "MatchID          37784 non-null int64\n",
            "Team Initials    37784 non-null object\n",
            "Coach Name       37784 non-null object\n",
            "Line-up          37784 non-null object\n",
            "Shirt Number     37784 non-null int64\n",
            "Player Name      37784 non-null object\n",
            "Position         4143 non-null object\n",
            "Event            9069 non-null object\n",
            "dtypes: int64(3), object(6)\n",
            "memory usage: 2.6+ MB\n"
          ],
          "name": "stdout"
        }
      ]
    },
    {
      "cell_type": "code",
      "metadata": {
        "id": "z4z9UGZG0WtO",
        "colab_type": "code",
        "colab": {
          "base_uri": "https://localhost:8080/",
          "height": 437
        },
        "outputId": "5a322dbe-b6ec-4a79-a8aa-b6d8f923baf6"
      },
      "source": [
        "df3.info()"
      ],
      "execution_count": 31,
      "outputs": [
        {
          "output_type": "stream",
          "text": [
            "<class 'pandas.core.frame.DataFrame'>\n",
            "RangeIndex: 4572 entries, 0 to 4571\n",
            "Data columns (total 20 columns):\n",
            "Year                    852 non-null float64\n",
            "Datetime                852 non-null object\n",
            "Stage                   852 non-null object\n",
            "Stadium                 852 non-null object\n",
            "City                    852 non-null object\n",
            "Home Team Name          852 non-null object\n",
            "Home Team Goals         852 non-null float64\n",
            "Away Team Goals         852 non-null float64\n",
            "Away Team Name          852 non-null object\n",
            "Win conditions          852 non-null object\n",
            "Attendance              850 non-null float64\n",
            "Half-time Home Goals    852 non-null float64\n",
            "Half-time Away Goals    852 non-null float64\n",
            "Referee                 852 non-null object\n",
            "Assistant 1             852 non-null object\n",
            "Assistant 2             852 non-null object\n",
            "RoundID                 852 non-null float64\n",
            "MatchID                 852 non-null float64\n",
            "Home Team Initials      852 non-null object\n",
            "Away Team Initials      852 non-null object\n",
            "dtypes: float64(8), object(12)\n",
            "memory usage: 714.5+ KB\n"
          ],
          "name": "stdout"
        }
      ]
    },
    {
      "cell_type": "code",
      "metadata": {
        "id": "rjmzGqGM0y2Z",
        "colab_type": "code",
        "colab": {
          "base_uri": "https://localhost:8080/",
          "height": 151
        },
        "outputId": "00091f30-af6e-4e52-d917-24f6cd0b0f70"
      },
      "source": [
        "#df = [pd.read_csv(f) for f in ['matches.csv','players.csv','winners.csv']]]\n",
        "#merge 3 data frames\n",
        "df = pd.concat([df1,df2,df3])"
      ],
      "execution_count": 39,
      "outputs": [
        {
          "output_type": "stream",
          "text": [
            "/usr/local/lib/python3.6/dist-packages/ipykernel_launcher.py:1: FutureWarning: Sorting because non-concatenation axis is not aligned. A future version\n",
            "of pandas will change to not sort by default.\n",
            "\n",
            "To accept the future behavior, pass 'sort=False'.\n",
            "\n",
            "To retain the current behavior and silence the warning, pass 'sort=True'.\n",
            "\n",
            "  \"\"\"Entry point for launching an IPython kernel.\n"
          ],
          "name": "stderr"
        }
      ]
    },
    {
      "cell_type": "code",
      "metadata": {
        "id": "cIP4GlOh1AvH",
        "colab_type": "code",
        "colab": {
          "base_uri": "https://localhost:8080/",
          "height": 284
        },
        "outputId": "c6c32d59-e1a0-4a7f-dbba-ba7808f8d017"
      },
      "source": [
        "df.describe()"
      ],
      "execution_count": 40,
      "outputs": [
        {
          "output_type": "execute_result",
          "data": {
            "text/html": [
              "<div>\n",
              "<style scoped>\n",
              "    .dataframe tbody tr th:only-of-type {\n",
              "        vertical-align: middle;\n",
              "    }\n",
              "\n",
              "    .dataframe tbody tr th {\n",
              "        vertical-align: top;\n",
              "    }\n",
              "\n",
              "    .dataframe thead th {\n",
              "        text-align: right;\n",
              "    }\n",
              "</style>\n",
              "<table border=\"1\" class=\"dataframe\">\n",
              "  <thead>\n",
              "    <tr style=\"text-align: right;\">\n",
              "      <th></th>\n",
              "      <th>Attendance</th>\n",
              "      <th>Away Team Goals</th>\n",
              "      <th>Half-time Away Goals</th>\n",
              "      <th>Half-time Home Goals</th>\n",
              "      <th>Home Team Goals</th>\n",
              "      <th>MatchID</th>\n",
              "      <th>RoundID</th>\n",
              "      <th>Shirt Number</th>\n",
              "      <th>Year</th>\n",
              "    </tr>\n",
              "  </thead>\n",
              "  <tbody>\n",
              "    <tr>\n",
              "      <th>count</th>\n",
              "      <td>1700.000000</td>\n",
              "      <td>1704.000000</td>\n",
              "      <td>1704.000000</td>\n",
              "      <td>1704.000000</td>\n",
              "      <td>1704.000000</td>\n",
              "      <td>3.948800e+04</td>\n",
              "      <td>3.948800e+04</td>\n",
              "      <td>37784.000000</td>\n",
              "      <td>1704.000000</td>\n",
              "    </tr>\n",
              "    <tr>\n",
              "      <th>mean</th>\n",
              "      <td>45164.800000</td>\n",
              "      <td>1.022300</td>\n",
              "      <td>0.428404</td>\n",
              "      <td>0.708920</td>\n",
              "      <td>1.811033</td>\n",
              "      <td>6.352414e+07</td>\n",
              "      <td>1.103944e+07</td>\n",
              "      <td>10.726022</td>\n",
              "      <td>1985.089202</td>\n",
              "    </tr>\n",
              "    <tr>\n",
              "      <th>std</th>\n",
              "      <td>23478.336738</td>\n",
              "      <td>1.087254</td>\n",
              "      <td>0.691049</td>\n",
              "      <td>0.937139</td>\n",
              "      <td>1.609782</td>\n",
              "      <td>1.123325e+08</td>\n",
              "      <td>2.768350e+07</td>\n",
              "      <td>6.960138</td>\n",
              "      <td>22.442233</td>\n",
              "    </tr>\n",
              "    <tr>\n",
              "      <th>min</th>\n",
              "      <td>2000.000000</td>\n",
              "      <td>0.000000</td>\n",
              "      <td>0.000000</td>\n",
              "      <td>0.000000</td>\n",
              "      <td>0.000000</td>\n",
              "      <td>2.500000e+01</td>\n",
              "      <td>2.010000e+02</td>\n",
              "      <td>0.000000</td>\n",
              "      <td>1930.000000</td>\n",
              "    </tr>\n",
              "    <tr>\n",
              "      <th>25%</th>\n",
              "      <td>30000.000000</td>\n",
              "      <td>0.000000</td>\n",
              "      <td>0.000000</td>\n",
              "      <td>0.000000</td>\n",
              "      <td>1.000000</td>\n",
              "      <td>1.194000e+03</td>\n",
              "      <td>2.630000e+02</td>\n",
              "      <td>5.000000</td>\n",
              "      <td>1970.000000</td>\n",
              "    </tr>\n",
              "    <tr>\n",
              "      <th>50%</th>\n",
              "      <td>41579.500000</td>\n",
              "      <td>1.000000</td>\n",
              "      <td>0.000000</td>\n",
              "      <td>0.000000</td>\n",
              "      <td>2.000000</td>\n",
              "      <td>2.216000e+03</td>\n",
              "      <td>3.370000e+02</td>\n",
              "      <td>11.000000</td>\n",
              "      <td>1990.000000</td>\n",
              "    </tr>\n",
              "    <tr>\n",
              "      <th>75%</th>\n",
              "      <td>61381.000000</td>\n",
              "      <td>2.000000</td>\n",
              "      <td>1.000000</td>\n",
              "      <td>1.000000</td>\n",
              "      <td>3.000000</td>\n",
              "      <td>9.741000e+07</td>\n",
              "      <td>2.559310e+05</td>\n",
              "      <td>17.000000</td>\n",
              "      <td>2002.000000</td>\n",
              "    </tr>\n",
              "    <tr>\n",
              "      <th>max</th>\n",
              "      <td>173850.000000</td>\n",
              "      <td>7.000000</td>\n",
              "      <td>5.000000</td>\n",
              "      <td>6.000000</td>\n",
              "      <td>10.000000</td>\n",
              "      <td>3.001865e+08</td>\n",
              "      <td>9.741060e+07</td>\n",
              "      <td>23.000000</td>\n",
              "      <td>2014.000000</td>\n",
              "    </tr>\n",
              "  </tbody>\n",
              "</table>\n",
              "</div>"
            ],
            "text/plain": [
              "          Attendance  Away Team Goals  ...  Shirt Number         Year\n",
              "count    1700.000000      1704.000000  ...  37784.000000  1704.000000\n",
              "mean    45164.800000         1.022300  ...     10.726022  1985.089202\n",
              "std     23478.336738         1.087254  ...      6.960138    22.442233\n",
              "min      2000.000000         0.000000  ...      0.000000  1930.000000\n",
              "25%     30000.000000         0.000000  ...      5.000000  1970.000000\n",
              "50%     41579.500000         1.000000  ...     11.000000  1990.000000\n",
              "75%     61381.000000         2.000000  ...     17.000000  2002.000000\n",
              "max    173850.000000         7.000000  ...     23.000000  2014.000000\n",
              "\n",
              "[8 rows x 9 columns]"
            ]
          },
          "metadata": {
            "tags": []
          },
          "execution_count": 40
        }
      ]
    },
    {
      "cell_type": "code",
      "metadata": {
        "id": "5A5Dd-yGtHn7",
        "colab_type": "code",
        "colab": {}
      },
      "source": [
        "#filenames = []\n",
        "#df = [pd.read_csv(f) for f in filenames]"
      ],
      "execution_count": 0,
      "outputs": []
    }
  ]
}